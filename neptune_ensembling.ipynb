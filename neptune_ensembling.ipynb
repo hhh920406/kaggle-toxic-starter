{
 "cells": [
  {
   "cell_type": "code",
   "execution_count": 1,
   "metadata": {},
   "outputs": [],
   "source": [
    "import pandas as pd\n",
    "\n",
    "from sklearn.linear_model import LogisticRegression"
   ]
  },
  {
   "cell_type": "code",
   "execution_count": 2,
   "metadata": {},
   "outputs": [
    {
     "data": {
      "text/plain": [
       "((159571, 8),\n",
       "                  id                                       comment_text  toxic  \\\n",
       " 0  0000997932d777bf  Explanation\\nWhy the edits made under my usern...      0   \n",
       " 1  000103f0d9cfb60f  D'aww! He matches this background colour I'm s...      0   \n",
       " 2  000113f07ec002fd  Hey man, I'm really not trying to edit war. It...      0   \n",
       " 3  0001b41b1c6bb37e  \"\\nMore\\nI can't make any real suggestions on ...      0   \n",
       " 4  0001d958c54c6e35  You, sir, are my hero. Any chance you remember...      0   \n",
       " \n",
       "    severe_toxic  obscene  threat  insult  identity_hate  \n",
       " 0             0        0       0       0              0  \n",
       " 1             0        0       0       0              0  \n",
       " 2             0        0       0       0              0  \n",
       " 3             0        0       0       0              0  \n",
       " 4             0        0       0       0              0  )"
      ]
     },
     "execution_count": 2,
     "metadata": {},
     "output_type": "execute_result"
    }
   ],
   "source": [
    "data = pd.read_csv('/mnt/ml-team/minerva/toxic/data/train.csv')\n",
    "data.shape, data.head()"
   ]
  },
  {
   "cell_type": "code",
   "execution_count": 5,
   "metadata": {
    "collapsed": true
   },
   "outputs": [],
   "source": [
    "BWCL_VALID_PATH = ''\n",
    "CVDCNN_VALID_PATH = ''\n",
    "CLOGREG_VALID_PATH = ''\n",
    "GDPCNN_VALID_PATH = ''\n",
    "GLSTM_VALID_PATH = ''\n",
    "GSCNN_VALID_PATH = ''\n",
    "TFIDIF_LOGREG_VALID_PATH = ''\n",
    "WLSTM_VALID_PATH = ''\n",
    "\n",
    "VALID_LABELS_PATH = ''\n",
    "\n",
    "BWCL_TEST_PATH = ''\n",
    "CVDCNN_TEST_PATH = ''\n",
    "CLOGREG_TEST_PATH = ''\n",
    "GDPCNN_TEST_PATH = ''\n",
    "GLSTM_TEST_PATH = ''\n",
    "GSCNN_TEST_PATH = ''\n",
    "TFIDIF_LOGREG_TEST_PATH = ''\n",
    "WLSTM_TEST_PATH = ''\n",
    "\n",
    "SAMPLE_SUBMISSION_PATH = ''\n",
    "ENSEMBLE_SUBMISSION_PATH = ''"
   ]
  },
  {
   "cell_type": "code",
   "execution_count": null,
   "metadata": {},
   "outputs": [],
   "source": []
  },
  {
   "cell_type": "markdown",
   "metadata": {},
   "source": [
    "# Validation Set Level 1 Predictions"
   ]
  },
  {
   "cell_type": "code",
   "execution_count": 6,
   "metadata": {
    "collapsed": true
   },
   "outputs": [
    {
     "ename": "NameError",
     "evalue": "name 'pd' is not defined",
     "output_type": "error",
     "traceback": [
      "\u001b[0;31m---------------------------------------------------------------------------\u001b[0m",
      "\u001b[0;31mNameError\u001b[0m                                 Traceback (most recent call last)",
      "\u001b[0;32m<ipython-input-6-28187f93508d>\u001b[0m in \u001b[0;36m<module>\u001b[0;34m()\u001b[0m\n\u001b[0;32m----> 1\u001b[0;31m \u001b[0mbad_word_count_logreg_valid\u001b[0m \u001b[0;34m=\u001b[0m \u001b[0mpd\u001b[0m\u001b[0;34m.\u001b[0m\u001b[0mread_csv\u001b[0m\u001b[0;34m(\u001b[0m\u001b[0mBWCL_VALID_PATH\u001b[0m\u001b[0;34m)\u001b[0m\u001b[0;34m\u001b[0m\u001b[0m\n\u001b[0m\u001b[1;32m      2\u001b[0m \u001b[0mchar_vdcnn_valid\u001b[0m \u001b[0;34m=\u001b[0m \u001b[0mpd\u001b[0m\u001b[0;34m.\u001b[0m\u001b[0mread_csv\u001b[0m\u001b[0;34m(\u001b[0m\u001b[0mCVDCNN_VALID_PATH\u001b[0m\u001b[0;34m)\u001b[0m\u001b[0;34m\u001b[0m\u001b[0m\n\u001b[1;32m      3\u001b[0m \u001b[0mcount_logreg_valid\u001b[0m \u001b[0;34m=\u001b[0m \u001b[0mpd\u001b[0m\u001b[0;34m.\u001b[0m\u001b[0mread_csv\u001b[0m\u001b[0;34m(\u001b[0m\u001b[0mCLOGREG_VALID_PATH\u001b[0m\u001b[0;34m)\u001b[0m\u001b[0;34m\u001b[0m\u001b[0m\n\u001b[1;32m      4\u001b[0m \u001b[0mglove_dpcnn_valid\u001b[0m \u001b[0;34m=\u001b[0m \u001b[0mpd\u001b[0m\u001b[0;34m.\u001b[0m\u001b[0mread_csv\u001b[0m\u001b[0;34m(\u001b[0m\u001b[0mGDPCNN_VALID_PATH\u001b[0m\u001b[0;34m)\u001b[0m\u001b[0;34m\u001b[0m\u001b[0m\n\u001b[1;32m      5\u001b[0m \u001b[0mglove_lstm_valid\u001b[0m \u001b[0;34m=\u001b[0m \u001b[0mpd\u001b[0m\u001b[0;34m.\u001b[0m\u001b[0mread_csv\u001b[0m\u001b[0;34m(\u001b[0m\u001b[0mGLSTM_VALID_PATH\u001b[0m\u001b[0;34m)\u001b[0m\u001b[0;34m\u001b[0m\u001b[0m\n",
      "\u001b[0;31mNameError\u001b[0m: name 'pd' is not defined"
     ]
    }
   ],
   "source": [
    "bad_word_count_logreg_valid = pd.read_csv(BWCL_VALID_PATH)\n",
    "char_vdcnn_valid = pd.read_csv(CVDCNN_VALID_PATH)\n",
    "count_logreg_valid = pd.read_csv(CLOGREG_VALID_PATH)\n",
    "glove_dpcnn_valid = pd.read_csv(GDPCNN_VALID_PATH)\n",
    "glove_lstm_valid = pd.read_csv(GLSTM_VALID_PATH)\n",
    "glove_scnn_valid = pd.read_csv(GSCNN_VALID_PATH)\n",
    "tfidf_logreg_valid = pd.read_csv(TFIDIF_LOGREG_VALID_PATH)\n",
    "word_lstm_valid = pd.read_csv(WLSTM_VALID_PATH)\n",
    "\n",
    "labels_valid = pd.read_csv(VALID_LABELS_PATH)"
   ]
  },
  {
   "cell_type": "code",
   "execution_count": null,
   "metadata": {
    "collapsed": true
   },
   "outputs": [],
   "source": [
    "X_valid = np.hstack([bad_word_count_logreg_valid, \n",
    "                     char_vdcnn_valid, \n",
    "                     count_logreg_valid,\n",
    "                     glove_dpcnn_valid,\n",
    "                     glove_lstm_valid,\n",
    "                     glove_scnn_valid,\n",
    "                     tfidf_logreg_valid,\n",
    "                     word_lstm_valid])\n",
    "\n",
    "y_valid_multilabel = labels_valid"
   ]
  },
  {
   "cell_type": "markdown",
   "metadata": {},
   "source": [
    "# Test Set Level 1 Predictions"
   ]
  },
  {
   "cell_type": "code",
   "execution_count": null,
   "metadata": {
    "collapsed": true
   },
   "outputs": [],
   "source": [
    "bad_word_count_logreg_test = pd.read_csv(BWCL_TEST_PATH)\n",
    "char_vdcnn_test = pd.read_csv(CVDCNN_TEST_PATH)\n",
    "count_logreg_test = pd.read_csv(CLOGREG_TEST_PATH)\n",
    "glove_dpcnn_test = pd.read_csv(GDPCNN_TEST_PATH)\n",
    "glove_lstm_test = pd.read_csv(GLSTM_TEST_PATH)\n",
    "glove_scnn_test = pd.read_csv(GSCNN_TEST_PATH)\n",
    "tfidf_logreg_test = pd.read_csv(TFIDIF_LOGREG_TEST_PATH)\n",
    "word_lstm_test = pd.read_csv(WLSTM_TEST_PATH)"
   ]
  },
  {
   "cell_type": "code",
   "execution_count": null,
   "metadata": {
    "collapsed": true
   },
   "outputs": [],
   "source": [
    "X_test = np.hstack([bad_word_count_logreg_test, \n",
    "                    char_vdcnn_test, \n",
    "                    count_logreg_test,\n",
    "                    glove_dpcnn_test,\n",
    "                    glove_lstm_test,\n",
    "                    glove_scnn_test,\n",
    "                    tfidf_logreg_test,\n",
    "                    word_lstm_test])"
   ]
  },
  {
   "cell_type": "markdown",
   "metadata": {},
   "source": [
    "# Ensemble Training"
   ]
  },
  {
   "cell_type": "code",
   "execution_count": null,
   "metadata": {
    "collapsed": true
   },
   "outputs": [],
   "source": [
    "estimators = []\n",
    "for y_valid_one_label in y_valid:\n",
    "    estimator = LogisticRegression()\n",
    "    estimator.fit(X_valid, y_valid_one_label)\n",
    "    estimators.append(estimator)"
   ]
  },
  {
   "cell_type": "markdown",
   "metadata": {},
   "source": [
    "# Ensemble Prediction"
   ]
  },
  {
   "cell_type": "code",
   "execution_count": null,
   "metadata": {
    "collapsed": true
   },
   "outputs": [],
   "source": [
    "for estimator in estimators:\n",
    "    y_test_pred_one_label = estimator.predict(X_test)\n",
    "y_test_pred = \n",
    "y_test_pred = np.stack(y_test_pred, axis=0)\n",
    "y_test_pred = y_test_pred[:, :, 1].transpose()"
   ]
  },
  {
   "cell_type": "markdown",
   "metadata": {},
   "source": [
    "# Submission"
   ]
  },
  {
   "cell_type": "code",
   "execution_count": null,
   "metadata": {
    "collapsed": true
   },
   "outputs": [],
   "source": [
    "submission = pd.read_csv(SAMPLE_SUBMISSION_PATH)\n",
    "submission[''] = y_test_pred\n",
    "submission.to_csv(ENSEMBLE_SUBMISSION_PATH)"
   ]
  }
 ],
 "metadata": {
  "kernelspec": {
   "display_name": "cpu py3",
   "language": "python",
   "name": "cpu_py3"
  },
  "language_info": {
   "codemirror_mode": {
    "name": "ipython",
    "version": 3
   },
   "file_extension": ".py",
   "mimetype": "text/x-python",
   "name": "python",
   "nbconvert_exporter": "python",
   "pygments_lexer": "ipython3",
   "version": "3.5.2"
  }
 },
 "nbformat": 4,
 "nbformat_minor": 1
}
