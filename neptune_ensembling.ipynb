{
 "cells": [
  {
   "cell_type": "code",
   "execution_count": 1,
   "metadata": {},
   "outputs": [],
   "source": [
    "import os\n",
    "\n",
    "import numpy as np\n",
    "import pandas as pd\n",
    "from sklearn.externals import joblib\n",
    "from sklearn.linear_model import LogisticRegression\n",
    "from sklearn.metrics import log_loss"
   ]
  },
  {
   "cell_type": "code",
   "execution_count": 2,
   "metadata": {},
   "outputs": [],
   "source": [
    "def multi_log_loss(y_true, y_pred):\n",
    "    assert y_true.shape == y_pred.shape\n",
    "    columns = y_true.shape[1]\n",
    "    column_losses = []\n",
    "    for i in range(0, columns):\n",
    "        column_losses.append(log_loss(y_true[:, i], y_pred[:, i]))\n",
    "    return np.array(column_losses).mean()"
   ]
  },
  {
   "cell_type": "code",
   "execution_count": 15,
   "metadata": {},
   "outputs": [],
   "source": [
    "LABEL_COLUMNS = ['toxic', 'severe_toxic','obscene','threat','insult','identity_hate']\n",
    "\n",
    "SINGLE_DIR = '/mnt/ml-team/minerva/toxic/single_model_predictions'\n",
    "\n",
    "BWCL_VALID_PATH = os.path.join(SINGLE_DIR, 'valid', 'logreg_bad_word_count.csv') # 0.0669\n",
    "CVDCNN_VALID_PATH = os.path.join(SINGLE_DIR, 'valid', 'char_vdcnn.csv') # 0.0435\n",
    "CLOGREG_VALID_PATH = os.path.join(SINGLE_DIR, 'valid', 'logreg_count.csv') # 0.126\n",
    "GDPCNN_VALID_PATH = os.path.join(SINGLE_DIR, 'valid', 'glove_dpcnn.csv') # 0.0422\n",
    "GLSTM_VALID_PATH = os.path.join(SINGLE_DIR, 'valid', 'glove_lstm.csv') # 0.0417\n",
    "GSCNN_VALID_PATH = os.path.join(SINGLE_DIR, 'valid', 'glove_scnn.csv') # 0.0427\n",
    "TFIDIF_LOGREG_VALID_PATH = os.path.join(SINGLE_DIR, 'valid', 'logreg_tfidf.csv') # 0.0459\n",
    "WLSTM_VALID_PATH = os.path.join(SINGLE_DIR, 'valid', 'word_lstm.csv') # 0.0486\n",
    "\n",
    "VALID_LABELS_PATH = os.path.join(SINGLE_DIR, 'valid', 'valid_split.csv')\n",
    "\n",
    "BWCL_TEST_PATH = os.path.join(SINGLE_DIR, 'test', 'logreg_bad_word_count.csv')\n",
    "CVDCNN_TEST_PATH = os.path.join(SINGLE_DIR, 'test', 'char_vdcnn.csv')\n",
    "CLOGREG_TEST_PATH = os.path.join(SINGLE_DIR, 'test', 'logreg_count.csv')\n",
    "GDPCNN_TEST_PATH = os.path.join(SINGLE_DIR, 'test', 'glove_dpcnn.csv')\n",
    "GLSTM_TEST_PATH = os.path.join(SINGLE_DIR, 'test', 'glove_lstm.csv')\n",
    "GSCNN_TEST_PATH = os.path.join(SINGLE_DIR, 'test', 'glove_scnn.csv')\n",
    "TFIDIF_LOGREG_TEST_PATH = os.path.join(SINGLE_DIR, 'test', 'logreg_tfidf.csv')\n",
    "WLSTM_TEST_PATH = os.path.join(SINGLE_DIR, 'test', 'word_lstm.csv')\n",
    "\n",
    "SAMPLE_SUBMISSION_PATH = os.path.join(SINGLE_DIR, 'test', 'sample_submission.csv')\n",
    "ENSEMBLE_SUBMISSION_PATH = os.path.join(SINGLE_DIR, 'submission.csv')"
   ]
  },
  {
   "cell_type": "markdown",
   "metadata": {},
   "source": [
    "# Validation Set Level 1 Predictions"
   ]
  },
  {
   "cell_type": "code",
   "execution_count": 16,
   "metadata": {},
   "outputs": [],
   "source": [
    "bad_word_count_logreg_valid = pd.read_csv(BWCL_VALID_PATH)\n",
    "char_vdcnn_valid = pd.read_csv(CVDCNN_VALID_PATH)\n",
    "count_logreg_valid = pd.read_csv(CLOGREG_VALID_PATH)\n",
    "glove_dpcnn_valid = pd.read_csv(GDPCNN_VALID_PATH)\n",
    "glove_lstm_valid = pd.read_csv(GLSTM_VALID_PATH)\n",
    "glove_scnn_valid = pd.read_csv(GSCNN_VALID_PATH)\n",
    "tfidf_logreg_valid = pd.read_csv(TFIDIF_LOGREG_VALID_PATH)\n",
    "word_lstm_valid = pd.read_csv(WLSTM_VALID_PATH)\n",
    "\n",
    "labels_valid = pd.read_csv(VALID_LABELS_PATH)"
   ]
  },
  {
   "cell_type": "code",
   "execution_count": 17,
   "metadata": {},
   "outputs": [
    {
     "data": {
      "text/html": [
       "<div>\n",
       "<style scoped>\n",
       "    .dataframe tbody tr th:only-of-type {\n",
       "        vertical-align: middle;\n",
       "    }\n",
       "\n",
       "    .dataframe tbody tr th {\n",
       "        vertical-align: top;\n",
       "    }\n",
       "\n",
       "    .dataframe thead th {\n",
       "        text-align: right;\n",
       "    }\n",
       "</style>\n",
       "<table border=\"1\" class=\"dataframe\">\n",
       "  <thead>\n",
       "    <tr style=\"text-align: right;\">\n",
       "      <th></th>\n",
       "      <th>id</th>\n",
       "      <th>toxic</th>\n",
       "      <th>severe_toxic</th>\n",
       "      <th>obscene</th>\n",
       "      <th>threat</th>\n",
       "      <th>insult</th>\n",
       "      <th>identity_hate</th>\n",
       "    </tr>\n",
       "  </thead>\n",
       "  <tbody>\n",
       "    <tr>\n",
       "      <th>0</th>\n",
       "      <td>20bc45f5014c1eca</td>\n",
       "      <td>0.024389</td>\n",
       "      <td>0.000826</td>\n",
       "      <td>0.003479</td>\n",
       "      <td>0.000882</td>\n",
       "      <td>0.008507</td>\n",
       "      <td>0.001497</td>\n",
       "    </tr>\n",
       "    <tr>\n",
       "      <th>1</th>\n",
       "      <td>948580166b8b8745</td>\n",
       "      <td>0.141035</td>\n",
       "      <td>0.002835</td>\n",
       "      <td>0.031479</td>\n",
       "      <td>0.002683</td>\n",
       "      <td>0.040060</td>\n",
       "      <td>0.003382</td>\n",
       "    </tr>\n",
       "    <tr>\n",
       "      <th>2</th>\n",
       "      <td>2c8519885db5c0bb</td>\n",
       "      <td>0.027942</td>\n",
       "      <td>0.000945</td>\n",
       "      <td>0.004199</td>\n",
       "      <td>0.000780</td>\n",
       "      <td>0.010168</td>\n",
       "      <td>0.001742</td>\n",
       "    </tr>\n",
       "    <tr>\n",
       "      <th>3</th>\n",
       "      <td>ed64d530a34aa973</td>\n",
       "      <td>0.147965</td>\n",
       "      <td>0.002652</td>\n",
       "      <td>0.034833</td>\n",
       "      <td>0.001616</td>\n",
       "      <td>0.046933</td>\n",
       "      <td>0.004547</td>\n",
       "    </tr>\n",
       "    <tr>\n",
       "      <th>4</th>\n",
       "      <td>a0dd897eafbada2c</td>\n",
       "      <td>0.020086</td>\n",
       "      <td>0.000756</td>\n",
       "      <td>0.002878</td>\n",
       "      <td>0.000653</td>\n",
       "      <td>0.007601</td>\n",
       "      <td>0.001468</td>\n",
       "    </tr>\n",
       "  </tbody>\n",
       "</table>\n",
       "</div>"
      ],
      "text/plain": [
       "                 id     toxic  severe_toxic   obscene    threat    insult  \\\n",
       "0  20bc45f5014c1eca  0.024389      0.000826  0.003479  0.000882  0.008507   \n",
       "1  948580166b8b8745  0.141035      0.002835  0.031479  0.002683  0.040060   \n",
       "2  2c8519885db5c0bb  0.027942      0.000945  0.004199  0.000780  0.010168   \n",
       "3  ed64d530a34aa973  0.147965      0.002652  0.034833  0.001616  0.046933   \n",
       "4  a0dd897eafbada2c  0.020086      0.000756  0.002878  0.000653  0.007601   \n",
       "\n",
       "   identity_hate  \n",
       "0       0.001497  \n",
       "1       0.003382  \n",
       "2       0.001742  \n",
       "3       0.004547  \n",
       "4       0.001468  "
      ]
     },
     "execution_count": 17,
     "metadata": {},
     "output_type": "execute_result"
    }
   ],
   "source": [
    "bad_word_count_logreg_valid.head()"
   ]
  },
  {
   "cell_type": "code",
   "execution_count": 18,
   "metadata": {},
   "outputs": [],
   "source": [
    "X_valid = np.hstack([bad_word_count_logreg_valid.drop('id',axis=1), \n",
    "                     char_vdcnn_valid.drop('id',axis=1), \n",
    "                     count_logreg_valid.drop('id',axis=1), \n",
    "                     glove_dpcnn_valid.drop('id',axis=1), \n",
    "                     glove_lstm_valid.drop('id',axis=1), \n",
    "                     glove_scnn_valid.drop('id',axis=1), \n",
    "                     tfidf_logreg_valid.drop('id',axis=1), \n",
    "                     word_lstm_valid.drop('id',axis=1)])\n",
    "\n",
    "y_valid_multilabel = labels_valid[LABEL_COLUMNS].values"
   ]
  },
  {
   "cell_type": "code",
   "execution_count": 19,
   "metadata": {},
   "outputs": [
    {
     "data": {
      "text/plain": [
       "(15958, 48)"
      ]
     },
     "execution_count": 19,
     "metadata": {},
     "output_type": "execute_result"
    }
   ],
   "source": [
    "X_valid.shape"
   ]
  },
  {
   "cell_type": "markdown",
   "metadata": {},
   "source": [
    "# Test Set Level 1 Predictions"
   ]
  },
  {
   "cell_type": "code",
   "execution_count": 20,
   "metadata": {},
   "outputs": [],
   "source": [
    "bad_word_count_logreg_test = pd.read_csv(BWCL_TEST_PATH)\n",
    "char_vdcnn_test = pd.read_csv(CVDCNN_TEST_PATH)\n",
    "count_logreg_test = pd.read_csv(CLOGREG_TEST_PATH)\n",
    "glove_dpcnn_test = pd.read_csv(GDPCNN_TEST_PATH)\n",
    "glove_lstm_test = pd.read_csv(GLSTM_TEST_PATH)\n",
    "glove_scnn_test = pd.read_csv(GSCNN_TEST_PATH)\n",
    "tfidf_logreg_test = pd.read_csv(TFIDIF_LOGREG_TEST_PATH)\n",
    "word_lstm_test = pd.read_csv(WLSTM_TEST_PATH)"
   ]
  },
  {
   "cell_type": "code",
   "execution_count": 21,
   "metadata": {},
   "outputs": [],
   "source": [
    "X_test = np.hstack([bad_word_count_logreg_test.drop('id',axis=1), \n",
    "                    char_vdcnn_test.drop('id',axis=1), \n",
    "                    count_logreg_test.drop('id',axis=1), \n",
    "                    glove_dpcnn_test.drop('id',axis=1), \n",
    "                    glove_lstm_test.drop('id',axis=1), \n",
    "                    glove_scnn_test.drop('id',axis=1), \n",
    "                    tfidf_logreg_test.drop('id',axis=1), \n",
    "                    word_lstm_test.drop('id',axis=1)])"
   ]
  },
  {
   "cell_type": "markdown",
   "metadata": {},
   "source": [
    "# Ensemble Training"
   ]
  },
  {
   "cell_type": "code",
   "execution_count": 22,
   "metadata": {},
   "outputs": [],
   "source": [
    "estimators = []\n",
    "for i in range(6):\n",
    "    y_valid_one_label = y_valid_multilabel[:,i]\n",
    "    estimator = LogisticRegression()\n",
    "    estimator.fit(X_valid, y_valid_one_label)\n",
    "    estimators.append(estimator)"
   ]
  },
  {
   "cell_type": "markdown",
   "metadata": {},
   "source": [
    "# Ensemble Prediction"
   ]
  },
  {
   "cell_type": "code",
   "execution_count": 23,
   "metadata": {},
   "outputs": [],
   "source": [
    "y_test_pred = []\n",
    "for estimator in estimators:\n",
    "    y_test_pred_one_label = estimator.predict_proba(X_test)\n",
    "    y_test_pred.append(y_test_pred_one_label)\n",
    "y_test_pred = np.stack(y_test_pred, axis=1)[...,1]"
   ]
  },
  {
   "cell_type": "markdown",
   "metadata": {},
   "source": [
    "# Submission"
   ]
  },
  {
   "cell_type": "code",
   "execution_count": 24,
   "metadata": {},
   "outputs": [
    {
     "data": {
      "text/html": [
       "<div>\n",
       "<style scoped>\n",
       "    .dataframe tbody tr th:only-of-type {\n",
       "        vertical-align: middle;\n",
       "    }\n",
       "\n",
       "    .dataframe tbody tr th {\n",
       "        vertical-align: top;\n",
       "    }\n",
       "\n",
       "    .dataframe thead th {\n",
       "        text-align: right;\n",
       "    }\n",
       "</style>\n",
       "<table border=\"1\" class=\"dataframe\">\n",
       "  <thead>\n",
       "    <tr style=\"text-align: right;\">\n",
       "      <th></th>\n",
       "      <th>id</th>\n",
       "      <th>toxic</th>\n",
       "      <th>severe_toxic</th>\n",
       "      <th>obscene</th>\n",
       "      <th>threat</th>\n",
       "      <th>insult</th>\n",
       "      <th>identity_hate</th>\n",
       "    </tr>\n",
       "  </thead>\n",
       "  <tbody>\n",
       "    <tr>\n",
       "      <th>0</th>\n",
       "      <td>00001cee341fdb12</td>\n",
       "      <td>0.990990</td>\n",
       "      <td>0.251604</td>\n",
       "      <td>0.971802</td>\n",
       "      <td>0.030149</td>\n",
       "      <td>0.911664</td>\n",
       "      <td>0.132895</td>\n",
       "    </tr>\n",
       "    <tr>\n",
       "      <th>1</th>\n",
       "      <td>0000247867823ef7</td>\n",
       "      <td>0.017128</td>\n",
       "      <td>0.000670</td>\n",
       "      <td>0.002327</td>\n",
       "      <td>0.000835</td>\n",
       "      <td>0.002777</td>\n",
       "      <td>0.001151</td>\n",
       "    </tr>\n",
       "    <tr>\n",
       "      <th>2</th>\n",
       "      <td>00013b17ad220c46</td>\n",
       "      <td>0.014774</td>\n",
       "      <td>0.000658</td>\n",
       "      <td>0.002285</td>\n",
       "      <td>0.000834</td>\n",
       "      <td>0.002923</td>\n",
       "      <td>0.001205</td>\n",
       "    </tr>\n",
       "    <tr>\n",
       "      <th>3</th>\n",
       "      <td>00017563c3f7919a</td>\n",
       "      <td>0.009214</td>\n",
       "      <td>0.000640</td>\n",
       "      <td>0.001530</td>\n",
       "      <td>0.000852</td>\n",
       "      <td>0.002894</td>\n",
       "      <td>0.001028</td>\n",
       "    </tr>\n",
       "    <tr>\n",
       "      <th>4</th>\n",
       "      <td>00017695ad8997eb</td>\n",
       "      <td>0.011690</td>\n",
       "      <td>0.000590</td>\n",
       "      <td>0.002571</td>\n",
       "      <td>0.000832</td>\n",
       "      <td>0.003391</td>\n",
       "      <td>0.001357</td>\n",
       "    </tr>\n",
       "  </tbody>\n",
       "</table>\n",
       "</div>"
      ],
      "text/plain": [
       "                 id     toxic  severe_toxic   obscene    threat    insult  \\\n",
       "0  00001cee341fdb12  0.990990      0.251604  0.971802  0.030149  0.911664   \n",
       "1  0000247867823ef7  0.017128      0.000670  0.002327  0.000835  0.002777   \n",
       "2  00013b17ad220c46  0.014774      0.000658  0.002285  0.000834  0.002923   \n",
       "3  00017563c3f7919a  0.009214      0.000640  0.001530  0.000852  0.002894   \n",
       "4  00017695ad8997eb  0.011690      0.000590  0.002571  0.000832  0.003391   \n",
       "\n",
       "   identity_hate  \n",
       "0       0.132895  \n",
       "1       0.001151  \n",
       "2       0.001205  \n",
       "3       0.001028  \n",
       "4       0.001357  "
      ]
     },
     "execution_count": 24,
     "metadata": {},
     "output_type": "execute_result"
    }
   ],
   "source": [
    "submission = pd.read_csv(SAMPLE_SUBMISSION_PATH)\n",
    "submission[LABEL_COLUMNS] = y_test_pred\n",
    "submission.to_csv(ENSEMBLE_SUBMISSION_PATH)\n",
    "submission.head()"
   ]
  },
  {
   "cell_type": "code",
   "execution_count": null,
   "metadata": {},
   "outputs": [],
   "source": []
  }
 ],
 "metadata": {
  "kernelspec": {
   "display_name": "cpu py3",
   "language": "python",
   "name": "cpu_py3"
  },
  "language_info": {
   "codemirror_mode": {
    "name": "ipython",
    "version": 3
   },
   "file_extension": ".py",
   "mimetype": "text/x-python",
   "name": "python",
   "nbconvert_exporter": "python",
   "pygments_lexer": "ipython3",
   "version": "3.5.2"
  }
 },
 "nbformat": 4,
 "nbformat_minor": 1
}
